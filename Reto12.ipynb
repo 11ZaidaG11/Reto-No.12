{
 "cells": [
  {
   "cell_type": "markdown",
   "metadata": {},
   "source": [
    "1. Desarrollar un algoritmo que imprima de manera ascendente los valores (todos del mismo tipo) de un diccionario."
   ]
  },
  {
   "cell_type": "code",
   "execution_count": 32,
   "metadata": {},
   "outputs": [
    {
     "name": "stdout",
     "output_type": "stream",
     "text": [
      "{'Banano': 81, 'Fresa': 7, 'Higo': 31, 'Mango': 93, 'Manzana': 48, 'Maracuyá': 56, 'Naranja': 43, 'Papaya': 39, 'Pera': 60, 'Toronja': 40}\n"
     ]
    }
   ],
   "source": [
    "import random\n",
    "\n",
    "\n",
    "corte : int = random.randint(5, 11)\n",
    "\n",
    "frutas = [\"Banano\", \"Sandía\", \"Cereza\", \"Higo\", \"Melón\", \"Manzana\", \"roja\", \"Guayaba\",\n",
    "          \"Fresa\", \"Frambuesa\", \"Limón\", \"Mora\", \"Piña\", \"Toronja\", \"Maracuyá\", \"Naranja\",\n",
    "          \"Arándano\", \"Papaya\", \"Mango\", \"Pera\", \"Uva\", \"Guanábana\"]\n",
    "random.shuffle(frutas)\n",
    "frutas_f = frutas[:corte]\n",
    "\n",
    "numeros = []\n",
    "x = random.randint(10, 20)\n",
    "for i in range(x):\n",
    "    elem = random.randrange(100)\n",
    "    numeros.append(elem)\n",
    "numeros_f = numeros[:corte]\n",
    "\n",
    "dic = {}\n",
    "for i in range(corte):\n",
    "    dic[frutas_f[i]] = numeros_f[i]\n",
    "ord_dic = dict(sorted(dic.items()))\n",
    "print(ord_dic)\n"
   ]
  },
  {
   "cell_type": "markdown",
   "metadata": {},
   "source": [
    "2. Desarrollar una función que reciba dos diccionarios como parametros y los mezcle, es decir, que se construya un nuevo diccionario con las llaves de los dos diccionarios; si hay una clave repetida en ambos diccionarios, se debe asignar el valor que tenga la clave en el primer diccionario."
   ]
  },
  {
   "cell_type": "code",
   "execution_count": null,
   "metadata": {},
   "outputs": [],
   "source": []
  },
  {
   "cell_type": "markdown",
   "metadata": {},
   "source": [
    "3. Cree un programa que lea de un archivo con dicho JSON y:\n",
    "- Imprima los nombres completos (nombre y apellidos) de las personas que practican el deporte ingresado por el usuario.\n",
    "- Imprima los nombres completos (nombre y apellidos) de las personas que esten en un rango de edades dado por el usuario."
   ]
  },
  {
   "cell_type": "code",
   "execution_count": null,
   "metadata": {},
   "outputs": [],
   "source": [
    "import json\n",
    "\n",
    "\n",
    "archivo = '''\n",
    "{\n",
    "    \"jadiazcoronado\": {\n",
    "        \"nombres\": \"Juan Antonio\",\n",
    "        \"apellidos\": \"Diaz Coronado\",\n",
    "        \"edad\": 19,\n",
    "        \"colombiano\": true,\n",
    "        \"deportes\": [\"Futbol\", \"Ajedrez\", \"Gimnasia\"]\n",
    "    },\n",
    "    \"dmlunasol\": {\n",
    "        \"nombres\": \"Dorotea Maritza\",\n",
    "        \"apellidos\": \"Luna Sol\",\n",
    "        \"edad\": 25,\n",
    "        \"colombiano\": false,\n",
    "        \"deportes\": [\"Baloncesto\", \"Ajedrez\", \"Gimnasia\"]\n",
    "    }\n",
    "}\n",
    "'''\n",
    "\n",
    "def buscar_deporte(info, deporte):\n",
    "    lista_dep = []\n",
    "    for per in info.values():\n",
    "        if deporte in per[\"deportes\"]:\n",
    "            lista_dep.append(f\"{per['nombres']} {per['apellidos']}\")\n",
    "\n",
    "    if not lista_dep: # Si la lista esta vacia\n",
    "        lista_dep.append(\"Nadie practica este deporte\")\n",
    "    return lista_dep\n",
    "\n",
    "def por_edad(info, min_edad, max_edad):\n",
    "    lista_edad = []\n",
    "    for per in info.values():\n",
    "        if min_edad <= p[\"edad\"] <= max_edad:\n",
    "            lista_edad.append(f\"{per['nombres']} {per['apellidos']}\")\n",
    "\n",
    "    if not lista_edad: # Si la lista esta vacia\n",
    "        lista_edad.append(\"Nadie esta en este rango de edad\")\n",
    "    return lista_edad\n",
    "\n",
    "if __name__ == \"__main__\":\n",
    "    info = json.loads(archivo) # Cargar el json porque es cadena de texto\n",
    "\n",
    "    dep = input(\"Ingrese un deporte: \")\n",
    "    min_edad = int(input(\"\\nIngrese la edad mínima: \"))\n",
    "    max_edad = int(input(\"Ingrese la edad máxima: \"))\n",
    "    \n",
    "    res_dep = buscar_deporte(info, dep)\n",
    "    print(f\"Deporte: {dep} → {res_dep}\")\n",
    "\n",
    "    res_edad = por_edad(info, min_edad, max_edad)\n",
    "    print(f\"Rango de edad: {min_edad}-{max_edad} → {res_edad}\")"
   ]
  }
 ],
 "metadata": {
  "kernelspec": {
   "display_name": "Python 3",
   "language": "python",
   "name": "python3"
  },
  "language_info": {
   "codemirror_mode": {
    "name": "ipython",
    "version": 3
   },
   "file_extension": ".py",
   "mimetype": "text/x-python",
   "name": "python",
   "nbconvert_exporter": "python",
   "pygments_lexer": "ipython3",
   "version": "3.12.8"
  }
 },
 "nbformat": 4,
 "nbformat_minor": 2
}
